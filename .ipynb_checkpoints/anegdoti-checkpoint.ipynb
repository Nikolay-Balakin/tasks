{
 "cells": [
  {
   "cell_type": "code",
   "execution_count": 1,
   "metadata": {},
   "outputs": [],
   "source": [
    "import requests\n",
    "import pandas as pd\n",
    "import numpy as np\n",
    "from lxml import html\n",
    "from lxml import etree"
   ]
  },
  {
   "cell_type": "code",
   "execution_count": 2,
   "metadata": {},
   "outputs": [],
   "source": [
    "headers = {'User-Agent': 'Mozilla/5.0 (Macintosh; Intel Mac OS X 10.9; rv:45.0) Gecko/20100101 Firefox/45.0'}\n",
    "\n",
    "url_army = 'https://www.anekdot.ru/tags/%D0%B0%D1%80%D0%BC%D0%B8%D1%8F/'\n",
    "url_money = 'https://www.anekdot.ru/tags/%D0%B4%D0%B5%D0%BD%D1%8C%D0%B3%D0%B8/'\n",
    "url_school = 'https://www.anekdot.ru/tags/%D1%88%D0%BA%D0%BE%D0%BB%D0%B0/'\n",
    "\n",
    "text_army = []\n",
    "text_money = []\n",
    "text_school = []"
   ]
  },
  {
   "cell_type": "code",
   "execution_count": 3,
   "metadata": {},
   "outputs": [],
   "source": [
    "\"\"\"собираем данные с сайта, сохраняем в листы по типам\"\"\"\n",
    "\n",
    "for i in range(1, 22):\n",
    "    r_army = requests.get(url_army + str(i), headers = headers)\n",
    "    \n",
    "    if r_army.status_code == 200:    \n",
    "        tree = html.fromstring(r_army.content)\n",
    "        film_list_lxml = tree.xpath('.//div[@class = \"topicbox\"]/div[@class = \"text\"]')\n",
    "        \n",
    "        for h in film_list_lxml:\n",
    "            text = h.xpath(\"string()\")\n",
    "            text_army.append(text)\n",
    "    else:\n",
    "        print('Unable to get responce :(')\n",
    "        \n",
    "        \n",
    "        \n",
    "for i in range(1, 23):\n",
    "    r_money = requests.get(url_money + str(i), headers = headers)\n",
    "    \n",
    "    if r_money.status_code == 200:    \n",
    "        tree = html.fromstring(r_money.content)\n",
    "        film_list_lxml = tree.xpath('.//div[@class = \"topicbox\"]/div[@class = \"text\"]')\n",
    "        \n",
    "        for h in film_list_lxml:\n",
    "            text = h.xpath(\"string()\")\n",
    "            text_money.append(text)\n",
    "    else:\n",
    "        print('Unable to get responce :(')\n",
    "        \n",
    "        \n",
    "        \n",
    "for i in range(1, 26):\n",
    "    r_school = requests.get(url_school + str(i), headers = headers)\n",
    "    \n",
    "    if r_school.status_code == 200:    \n",
    "        tree = html.fromstring(r_school.content)\n",
    "        film_list_lxml = tree.xpath('.//div[@class = \"topicbox\"]/div[@class = \"text\"]')\n",
    "        \n",
    "        for h in film_list_lxml:\n",
    "            text = h.xpath(\"string()\")\n",
    "            text_school.append(text)\n",
    "    else:\n",
    "        print('Unable to get responce :(')"
   ]
  },
  {
   "cell_type": "markdown",
   "metadata": {},
   "source": [
    "Получаем 3 листа по тематике, элементы которых - анекдоты."
   ]
  },
  {
   "cell_type": "code",
   "execution_count": 4,
   "metadata": {},
   "outputs": [],
   "source": [
    "\"\"\"запихиваем в один датафрэйм\"\"\"\n",
    "\n",
    "dataset = pd.DataFrame(columns=['text', 'label'])\n",
    "\n",
    "data_frame = pd.DataFrame(columns=['text', 'label'])\n",
    "data_frame['text'] = text_army\n",
    "data_frame['label'] = 0         #army\n",
    "\n",
    "dataset = dataset.append(data_frame, ignore_index=True, sort=False)\n",
    "\n",
    "data_frame = pd.DataFrame(columns=['text', 'label'])\n",
    "data_frame['text'] = text_money\n",
    "data_frame['label'] = 1         #money\n",
    "\n",
    "dataset = dataset.append(data_frame, ignore_index=True, sort=False)\n",
    "\n",
    "data_frame = pd.DataFrame(columns=['text', 'label'])\n",
    "data_frame['text'] = text_school\n",
    "data_frame['label'] = 2         #school\n",
    "\n",
    "dataset = dataset.append(data_frame, ignore_index=True, sort=False)"
   ]
  },
  {
   "cell_type": "code",
   "execution_count": 5,
   "metadata": {},
   "outputs": [],
   "source": [
    "\"\"\"удаляем повторы и перемешиваем\"\"\"\n",
    "dataset.drop_duplicates(inplace=True)\n",
    "dataset = dataset.sample(frac=1).reset_index(drop=True) #mix"
   ]
  },
  {
   "cell_type": "code",
   "execution_count": 6,
   "metadata": {},
   "outputs": [],
   "source": [
    "\"\"\"сохраняем в файл\"\"\"\n",
    "dataset.to_csv('./jokes.csv', index=False)"
   ]
  },
  {
   "cell_type": "markdown",
   "metadata": {},
   "source": [
    "Получаем датасет следующего вида: (текс анекдота, метка класса). 0 - армия, 1 - деньги, 2 - школа."
   ]
  },
  {
   "cell_type": "code",
   "execution_count": 7,
   "metadata": {},
   "outputs": [],
   "source": [
    "#dataset = pd.read_csv('./jokes.csv')"
   ]
  },
  {
   "cell_type": "code",
   "execution_count": 8,
   "metadata": {
    "scrolled": false
   },
   "outputs": [
    {
     "data": {
      "text/html": [
       "<div>\n",
       "<style scoped>\n",
       "    .dataframe tbody tr th:only-of-type {\n",
       "        vertical-align: middle;\n",
       "    }\n",
       "\n",
       "    .dataframe tbody tr th {\n",
       "        vertical-align: top;\n",
       "    }\n",
       "\n",
       "    .dataframe thead th {\n",
       "        text-align: right;\n",
       "    }\n",
       "</style>\n",
       "<table border=\"1\" class=\"dataframe\">\n",
       "  <thead>\n",
       "    <tr style=\"text-align: right;\">\n",
       "      <th></th>\n",
       "      <th>text</th>\n",
       "      <th>label</th>\n",
       "    </tr>\n",
       "  </thead>\n",
       "  <tbody>\n",
       "    <tr>\n",
       "      <th>3258</th>\n",
       "      <td>Ещё одна армейская история. Если кто не понял ...</td>\n",
       "      <td>0</td>\n",
       "    </tr>\n",
       "    <tr>\n",
       "      <th>3259</th>\n",
       "      <td>После успеха передачи на НТВ \"Поедем, поедим\",...</td>\n",
       "      <td>1</td>\n",
       "    </tr>\n",
       "    <tr>\n",
       "      <th>3260</th>\n",
       "      <td>РВСН. Авария.Зона обеспечения была у нас в осн...</td>\n",
       "      <td>0</td>\n",
       "    </tr>\n",
       "    <tr>\n",
       "      <th>3261</th>\n",
       "      <td>Из школьного сочинения: Динозавры вымерли, так...</td>\n",
       "      <td>2</td>\n",
       "    </tr>\n",
       "    <tr>\n",
       "      <th>3262</th>\n",
       "      <td>Сын подрабатывает преподавателем в институте н...</td>\n",
       "      <td>1</td>\n",
       "    </tr>\n",
       "    <tr>\n",
       "      <th>3263</th>\n",
       "      <td>Прочитал только что не могу не поделиться.Посл...</td>\n",
       "      <td>0</td>\n",
       "    </tr>\n",
       "    <tr>\n",
       "      <th>3264</th>\n",
       "      <td>Российская экономика напоминает тетрис: деньги...</td>\n",
       "      <td>1</td>\n",
       "    </tr>\n",
       "    <tr>\n",
       "      <th>3265</th>\n",
       "      <td>Вдогонку истории про преступление с колбасой в...</td>\n",
       "      <td>0</td>\n",
       "    </tr>\n",
       "    <tr>\n",
       "      <th>3266</th>\n",
       "      <td>Бабушка спросила у внука (первоклассника), что...</td>\n",
       "      <td>2</td>\n",
       "    </tr>\n",
       "    <tr>\n",
       "      <th>3267</th>\n",
       "      <td>Классная руководительница – родителям:- Поздра...</td>\n",
       "      <td>2</td>\n",
       "    </tr>\n",
       "    <tr>\n",
       "      <th>3268</th>\n",
       "      <td>Помню, как школьный трудовик сказал нам: - Жиз...</td>\n",
       "      <td>2</td>\n",
       "    </tr>\n",
       "    <tr>\n",
       "      <th>3269</th>\n",
       "      <td>- Вы понимаете, какая это засада, когда у мужа...</td>\n",
       "      <td>1</td>\n",
       "    </tr>\n",
       "    <tr>\n",
       "      <th>3270</th>\n",
       "      <td>Люди редко принимают что-нибудь за чистую моне...</td>\n",
       "      <td>1</td>\n",
       "    </tr>\n",
       "    <tr>\n",
       "      <th>3271</th>\n",
       "      <td>Папа школьников:- Был я сегодня в школе старше...</td>\n",
       "      <td>2</td>\n",
       "    </tr>\n",
       "    <tr>\n",
       "      <th>3272</th>\n",
       "      <td>Морское училище; первое занятие по огневой под...</td>\n",
       "      <td>0</td>\n",
       "    </tr>\n",
       "  </tbody>\n",
       "</table>\n",
       "</div>"
      ],
      "text/plain": [
       "                                                   text label\n",
       "3258  Ещё одна армейская история. Если кто не понял ...     0\n",
       "3259  После успеха передачи на НТВ \"Поедем, поедим\",...     1\n",
       "3260  РВСН. Авария.Зона обеспечения была у нас в осн...     0\n",
       "3261  Из школьного сочинения: Динозавры вымерли, так...     2\n",
       "3262  Сын подрабатывает преподавателем в институте н...     1\n",
       "3263  Прочитал только что не могу не поделиться.Посл...     0\n",
       "3264  Российская экономика напоминает тетрис: деньги...     1\n",
       "3265  Вдогонку истории про преступление с колбасой в...     0\n",
       "3266  Бабушка спросила у внука (первоклассника), что...     2\n",
       "3267  Классная руководительница – родителям:- Поздра...     2\n",
       "3268  Помню, как школьный трудовик сказал нам: - Жиз...     2\n",
       "3269  - Вы понимаете, какая это засада, когда у мужа...     1\n",
       "3270  Люди редко принимают что-нибудь за чистую моне...     1\n",
       "3271  Папа школьников:- Был я сегодня в школе старше...     2\n",
       "3272  Морское училище; первое занятие по огневой под...     0"
      ]
     },
     "execution_count": 8,
     "metadata": {},
     "output_type": "execute_result"
    }
   ],
   "source": [
    "dataset.tail(15)"
   ]
  },
  {
   "cell_type": "code",
   "execution_count": 9,
   "metadata": {},
   "outputs": [
    {
     "data": {
      "text/plain": [
       "2    1201\n",
       "1    1077\n",
       "0     995\n",
       "Name: label, dtype: int64"
      ]
     },
     "execution_count": 9,
     "metadata": {},
     "output_type": "execute_result"
    }
   ],
   "source": [
    "dataset['label'].value_counts()"
   ]
  },
  {
   "cell_type": "markdown",
   "metadata": {},
   "source": [
    "Нет явного дисбаланса классов, для оценки качества подойдет метрика accuracy."
   ]
  },
  {
   "cell_type": "code",
   "execution_count": 10,
   "metadata": {},
   "outputs": [],
   "source": [
    "\"\"\"подготавливаем данные, разбиваем на обучающую и тестовую\"\"\"\n",
    "from sklearn.model_selection import train_test_split\n",
    "\n",
    "\n",
    "texts = dataset['text'].values\n",
    "target = dataset['label'].values.astype(int)\n",
    "\n",
    "texts_train, texts_test, y_train, y_test = train_test_split(texts, target, test_size=0.3, random_state=42)"
   ]
  },
  {
   "cell_type": "markdown",
   "metadata": {},
   "source": [
    "На тест оставляем 30%."
   ]
  },
  {
   "cell_type": "code",
   "execution_count": 11,
   "metadata": {},
   "outputs": [],
   "source": [
    "\"\"\"Производим векторизацию (tf-idf), лимит словаря - 10 000\"\"\"\n",
    "from sklearn.feature_extraction.text import TfidfVectorizer\n",
    "\n",
    "\n",
    "vectorizer = TfidfVectorizer(max_features = 10000)\n",
    "vectorizer.fit(texts_train)\n",
    "\n",
    "X_train = vectorizer.transform(texts_train)\n",
    "X_test = vectorizer.transform(texts_test)"
   ]
  },
  {
   "cell_type": "markdown",
   "metadata": {},
   "source": [
    "Переводим документы в векторы.\n",
    "\n",
    "Наша модель - логистическая регрессия, подбираем лучшие параметры (коэффициент регуляризации и метрику) 5 кратная кросс-валидация."
   ]
  },
  {
   "cell_type": "code",
   "execution_count": 12,
   "metadata": {},
   "outputs": [
    {
     "data": {
      "text/plain": [
       "RandomizedSearchCV(cv=5, error_score='raise',\n",
       "          estimator=LogisticRegression(C=1.0, class_weight=None, dual=False, fit_intercept=True,\n",
       "          intercept_scaling=1, max_iter=100, multi_class='ovr', n_jobs=1,\n",
       "          penalty='l2', random_state=None, solver='liblinear', tol=0.0001,\n",
       "          verbose=0, warm_start=False),\n",
       "          fit_params=None, iid=True, n_iter=10, n_jobs=-1,\n",
       "          param_distributions={'C': [0.001, 0.01, 0.1, 1, 5, 10, 50, 100, 500, 1000, 2000], 'penalty': ['l1', 'l2']},\n",
       "          pre_dispatch='2*n_jobs', random_state=None, refit=True,\n",
       "          return_train_score='warn', scoring=None, verbose=0)"
      ]
     },
     "execution_count": 12,
     "metadata": {},
     "output_type": "execute_result"
    }
   ],
   "source": [
    "from sklearn.linear_model import LogisticRegression\n",
    "from sklearn.model_selection import RandomizedSearchCV\n",
    "\n",
    "parameters = {'C': [0.001, 0.01, 0.1, 1, 5, 10, 50, 100, 500, 1000, 2000], 'penalty' : ['l1', 'l2']}\n",
    "\n",
    "clf = RandomizedSearchCV(LogisticRegression(), parameters, cv=5, n_jobs=-1)\n",
    "\n",
    "clf.fit(X_train, y_train)"
   ]
  },
  {
   "cell_type": "code",
   "execution_count": 13,
   "metadata": {},
   "outputs": [
    {
     "data": {
      "text/plain": [
       "{'penalty': 'l2', 'C': 50}"
      ]
     },
     "execution_count": 13,
     "metadata": {},
     "output_type": "execute_result"
    }
   ],
   "source": [
    "clf.best_params_"
   ]
  },
  {
   "cell_type": "markdown",
   "metadata": {},
   "source": [
    "Создаем и обучаем классификатор с определенными лучшими параметрами."
   ]
  },
  {
   "cell_type": "code",
   "execution_count": 14,
   "metadata": {},
   "outputs": [
    {
     "name": "stdout",
     "output_type": "stream",
     "text": [
      "Train score = 0.9930161501527717\n",
      "Test score  = 0.8940936863543788\n"
     ]
    }
   ],
   "source": [
    "tfidf_model = LogisticRegression(C=50, penalty='l2')\n",
    "tfidf_model.fit(X_train, y_train)\n",
    "\n",
    "print('Train score =', tfidf_model.score(X_train, y_train))\n",
    "print('Test score  =', tfidf_model.score(X_test, y_test))"
   ]
  },
  {
   "cell_type": "markdown",
   "metadata": {},
   "source": [
    "На обучающей выборке точность составляет 99.3%, на тестовой - 89.4%."
   ]
  }
 ],
 "metadata": {
  "kernelspec": {
   "display_name": "Python 3",
   "language": "python",
   "name": "python3"
  },
  "language_info": {
   "codemirror_mode": {
    "name": "ipython",
    "version": 3
   },
   "file_extension": ".py",
   "mimetype": "text/x-python",
   "name": "python",
   "nbconvert_exporter": "python",
   "pygments_lexer": "ipython3",
   "version": "3.7.1"
  }
 },
 "nbformat": 4,
 "nbformat_minor": 2
}
